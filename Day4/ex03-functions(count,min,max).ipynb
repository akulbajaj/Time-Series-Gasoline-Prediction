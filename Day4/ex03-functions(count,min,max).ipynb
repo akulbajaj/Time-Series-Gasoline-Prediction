{
 "cells": [
  {
   "cell_type": "markdown",
   "id": "2091a950-ccb8-4d3d-8328-ab7876520650",
   "metadata": {
    "tags": []
   },
   "source": [
    "## \n",
    "create a function count_min_max(list), which takes a list and returns its length, minimum and maximum values"
   ]
  },
  {
   "cell_type": "code",
   "execution_count": 1,
   "id": "49b2db3e-fc8f-459e-8681-030cfbf91242",
   "metadata": {},
   "outputs": [],
   "source": [
    "def count_min_max(list):\n",
    "    list.sort()\n",
    "    return len(list), list[0], list[-1]"
   ]
  },
  {
   "cell_type": "code",
   "execution_count": 2,
   "id": "e7c923ca-471c-4098-a515-9b96e480181c",
   "metadata": {},
   "outputs": [],
   "source": [
    "items= [1,4,3,2,5]"
   ]
  },
  {
   "cell_type": "code",
   "execution_count": 3,
   "id": "fe806e58-99a1-431d-8c00-b584c873a473",
   "metadata": {},
   "outputs": [],
   "source": [
    "count, minimum, maximum = count_min_max(items)"
   ]
  },
  {
   "cell_type": "code",
   "execution_count": 4,
   "id": "2375b627-0ec3-451f-a4be-12ea136ed485",
   "metadata": {},
   "outputs": [
    {
     "data": {
      "text/plain": [
       "5"
      ]
     },
     "execution_count": 4,
     "metadata": {},
     "output_type": "execute_result"
    }
   ],
   "source": [
    "count"
   ]
  },
  {
   "cell_type": "code",
   "execution_count": 5,
   "id": "a27ad490-50e5-4efb-970c-030730e7b53d",
   "metadata": {},
   "outputs": [
    {
     "data": {
      "text/plain": [
       "1"
      ]
     },
     "execution_count": 5,
     "metadata": {},
     "output_type": "execute_result"
    }
   ],
   "source": [
    "minimum"
   ]
  },
  {
   "cell_type": "code",
   "execution_count": 6,
   "id": "8b6c6d1a-a4f2-4d51-8d67-6a96e18e3632",
   "metadata": {},
   "outputs": [
    {
     "data": {
      "text/plain": [
       "5"
      ]
     },
     "execution_count": 6,
     "metadata": {},
     "output_type": "execute_result"
    }
   ],
   "source": [
    "maximum"
   ]
  },
  {
   "cell_type": "code",
   "execution_count": null,
   "id": "0e388d82-404f-4bc2-a3be-31caa9ccf250",
   "metadata": {},
   "outputs": [],
   "source": []
  }
 ],
 "metadata": {
  "kernelspec": {
   "display_name": "Python 3 (ipykernel)",
   "language": "python",
   "name": "python3"
  },
  "language_info": {
   "codemirror_mode": {
    "name": "ipython",
    "version": 3
   },
   "file_extension": ".py",
   "mimetype": "text/x-python",
   "name": "python",
   "nbconvert_exporter": "python",
   "pygments_lexer": "ipython3",
   "version": "3.9.12"
  }
 },
 "nbformat": 4,
 "nbformat_minor": 5
}
