{
 "cells": [
  {
   "cell_type": "markdown",
   "id": "1cb2c7de-e811-4ab4-8626-035845e2cd95",
   "metadata": {
    "tags": []
   },
   "source": [
    "## For the following functions, what are the proper ways to call the function?"
   ]
  },
  {
   "cell_type": "code",
   "execution_count": 1,
   "id": "0a717383-63b0-4ed3-814a-f9f80952dab1",
   "metadata": {
    "tags": []
   },
   "outputs": [],
   "source": [
    "def generate_emails(first_name, last_name):\n",
    "    user_id = first_name.lower()[0] + last_name.lower()\n",
    "    return user_id + '@usfca.edu'"
   ]
  },
  {
   "cell_type": "code",
   "execution_count": 2,
   "id": "175c3456-7592-465c-a6a8-ee4db39d8af5",
   "metadata": {},
   "outputs": [
    {
     "data": {
      "text/plain": [
       "'dwoodbridge@usfca.edu'"
      ]
     },
     "execution_count": 2,
     "metadata": {},
     "output_type": "execute_result"
    }
   ],
   "source": [
    "generate_emails(first_name = 'Diane', last_name = 'Woodbridge')"
   ]
  },
  {
   "cell_type": "code",
   "execution_count": 3,
   "id": "4749169c-5812-4f25-b026-b8830194ec37",
   "metadata": {},
   "outputs": [
    {
     "ename": "TypeError",
     "evalue": "generate_emails() got an unexpected keyword argument 'title'",
     "output_type": "error",
     "traceback": [
      "\u001b[0;31m---------------------------------------------------------------------------\u001b[0m",
      "\u001b[0;31mTypeError\u001b[0m                                 Traceback (most recent call last)",
      "Input \u001b[0;32mIn [3]\u001b[0m, in \u001b[0;36m<cell line: 1>\u001b[0;34m()\u001b[0m\n\u001b[0;32m----> 1\u001b[0m \u001b[43mgenerate_emails\u001b[49m\u001b[43m(\u001b[49m\u001b[43mfirst_name\u001b[49m\u001b[43m \u001b[49m\u001b[38;5;241;43m=\u001b[39;49m\u001b[43m \u001b[49m\u001b[38;5;124;43m'\u001b[39;49m\u001b[38;5;124;43mDiane\u001b[39;49m\u001b[38;5;124;43m'\u001b[39;49m\u001b[43m,\u001b[49m\u001b[43m \u001b[49m\u001b[43mlast_name\u001b[49m\u001b[43m \u001b[49m\u001b[38;5;241;43m=\u001b[39;49m\u001b[43m \u001b[49m\u001b[38;5;124;43m'\u001b[39;49m\u001b[38;5;124;43mWoodbridge\u001b[39;49m\u001b[38;5;124;43m'\u001b[39;49m\u001b[43m,\u001b[49m\u001b[43m \u001b[49m\u001b[43mtitle\u001b[49m\u001b[43m \u001b[49m\u001b[38;5;241;43m=\u001b[39;49m\u001b[43m \u001b[49m\u001b[38;5;124;43m'\u001b[39;49m\u001b[38;5;124;43mDr.\u001b[39;49m\u001b[38;5;124;43m'\u001b[39;49m\u001b[43m)\u001b[49m\n",
      "\u001b[0;31mTypeError\u001b[0m: generate_emails() got an unexpected keyword argument 'title'"
     ]
    }
   ],
   "source": [
    "generate_emails(first_name = 'Diane', last_name = 'Woodbridge', title = 'Dr.')"
   ]
  },
  {
   "cell_type": "code",
   "execution_count": 4,
   "id": "8f900b36-9e5e-4cc4-af94-d8d74c2c085a",
   "metadata": {},
   "outputs": [
    {
     "data": {
      "text/plain": [
       "'dwoodbridge@usfca.edu'"
      ]
     },
     "execution_count": 4,
     "metadata": {},
     "output_type": "execute_result"
    }
   ],
   "source": [
    "generate_emails('Diane', 'Woodbridge')"
   ]
  },
  {
   "cell_type": "code",
   "execution_count": 5,
   "id": "9a1f39a0-acc8-4cba-998d-7288d6e221ac",
   "metadata": {},
   "outputs": [],
   "source": [
    "def generate_emails(*args):\n",
    "    user_id = args[0].lower()[0] + args[1].lower()\n",
    "    return user_id + \"@usfca.edu\""
   ]
  },
  {
   "cell_type": "code",
   "execution_count": 6,
   "id": "8c1aa695-d0a8-49a4-a2c6-32d567024872",
   "metadata": {},
   "outputs": [
    {
     "ename": "TypeError",
     "evalue": "generate_emails() got an unexpected keyword argument 'first_name'",
     "output_type": "error",
     "traceback": [
      "\u001b[0;31m---------------------------------------------------------------------------\u001b[0m",
      "\u001b[0;31mTypeError\u001b[0m                                 Traceback (most recent call last)",
      "Input \u001b[0;32mIn [6]\u001b[0m, in \u001b[0;36m<cell line: 1>\u001b[0;34m()\u001b[0m\n\u001b[0;32m----> 1\u001b[0m \u001b[43mgenerate_emails\u001b[49m\u001b[43m(\u001b[49m\u001b[43mfirst_name\u001b[49m\u001b[43m \u001b[49m\u001b[38;5;241;43m=\u001b[39;49m\u001b[43m \u001b[49m\u001b[38;5;124;43m'\u001b[39;49m\u001b[38;5;124;43mDiane\u001b[39;49m\u001b[38;5;124;43m'\u001b[39;49m\u001b[43m,\u001b[49m\u001b[43m \u001b[49m\u001b[43mlast_name\u001b[49m\u001b[43m \u001b[49m\u001b[38;5;241;43m=\u001b[39;49m\u001b[43m \u001b[49m\u001b[38;5;124;43m'\u001b[39;49m\u001b[38;5;124;43mWoodbridge\u001b[39;49m\u001b[38;5;124;43m'\u001b[39;49m\u001b[43m)\u001b[49m\n",
      "\u001b[0;31mTypeError\u001b[0m: generate_emails() got an unexpected keyword argument 'first_name'"
     ]
    }
   ],
   "source": [
    "generate_emails(first_name = 'Diane', last_name = 'Woodbridge')"
   ]
  },
  {
   "cell_type": "code",
   "execution_count": 7,
   "id": "07311edb-a178-4b0d-af24-6f3e779c85fc",
   "metadata": {},
   "outputs": [
    {
     "ename": "TypeError",
     "evalue": "generate_emails() got an unexpected keyword argument 'first_name'",
     "output_type": "error",
     "traceback": [
      "\u001b[0;31m---------------------------------------------------------------------------\u001b[0m",
      "\u001b[0;31mTypeError\u001b[0m                                 Traceback (most recent call last)",
      "Input \u001b[0;32mIn [7]\u001b[0m, in \u001b[0;36m<cell line: 1>\u001b[0;34m()\u001b[0m\n\u001b[0;32m----> 1\u001b[0m \u001b[43mgenerate_emails\u001b[49m\u001b[43m(\u001b[49m\u001b[43mfirst_name\u001b[49m\u001b[43m \u001b[49m\u001b[38;5;241;43m=\u001b[39;49m\u001b[43m \u001b[49m\u001b[38;5;124;43m'\u001b[39;49m\u001b[38;5;124;43mDiane\u001b[39;49m\u001b[38;5;124;43m'\u001b[39;49m\u001b[43m,\u001b[49m\u001b[43m \u001b[49m\u001b[43mlast_name\u001b[49m\u001b[43m \u001b[49m\u001b[38;5;241;43m=\u001b[39;49m\u001b[43m \u001b[49m\u001b[38;5;124;43m'\u001b[39;49m\u001b[38;5;124;43mWoodbridge\u001b[39;49m\u001b[38;5;124;43m'\u001b[39;49m\u001b[43m,\u001b[49m\u001b[43m \u001b[49m\u001b[43mtitle\u001b[49m\u001b[43m \u001b[49m\u001b[38;5;241;43m=\u001b[39;49m\u001b[43m \u001b[49m\u001b[38;5;124;43m'\u001b[39;49m\u001b[38;5;124;43mDr.\u001b[39;49m\u001b[38;5;124;43m'\u001b[39;49m\u001b[43m)\u001b[49m\n",
      "\u001b[0;31mTypeError\u001b[0m: generate_emails() got an unexpected keyword argument 'first_name'"
     ]
    }
   ],
   "source": [
    "generate_emails(first_name = 'Diane', last_name = 'Woodbridge', title = 'Dr.')"
   ]
  },
  {
   "cell_type": "code",
   "execution_count": 8,
   "id": "c6e193b0-1802-41d9-b059-ca1b13941f6a",
   "metadata": {},
   "outputs": [
    {
     "data": {
      "text/plain": [
       "'dwoodbridge@usfca.edu'"
      ]
     },
     "execution_count": 8,
     "metadata": {},
     "output_type": "execute_result"
    }
   ],
   "source": [
    "generate_emails('Diane', 'Woodbridge')"
   ]
  },
  {
   "cell_type": "code",
   "execution_count": 9,
   "id": "b43d120b-029f-4e82-a2ec-83ee19c4655c",
   "metadata": {},
   "outputs": [],
   "source": [
    "def generate_emails(**kargs):\n",
    "    user_id = kargs['first_name'][0].lower() + kargs['last_name'].lower()\n",
    "    return user_id + \"@usfca.edu\""
   ]
  },
  {
   "cell_type": "code",
   "execution_count": 10,
   "id": "6c9816f2-4ff5-427d-bad7-2caece77b4ca",
   "metadata": {},
   "outputs": [
    {
     "data": {
      "text/plain": [
       "'dwoodbridge@usfca.edu'"
      ]
     },
     "execution_count": 10,
     "metadata": {},
     "output_type": "execute_result"
    }
   ],
   "source": [
    "generate_emails(first_name = 'Diane', last_name = 'Woodbridge')"
   ]
  },
  {
   "cell_type": "code",
   "execution_count": 11,
   "id": "eb4bfeab-bc65-4aeb-8c43-ceeca63484a7",
   "metadata": {},
   "outputs": [
    {
     "data": {
      "text/plain": [
       "'dwoodbridge@usfca.edu'"
      ]
     },
     "execution_count": 11,
     "metadata": {},
     "output_type": "execute_result"
    }
   ],
   "source": [
    "generate_emails(first_name = 'Diane', last_name = 'Woodbridge', title = 'Dr.')"
   ]
  },
  {
   "cell_type": "code",
   "execution_count": 12,
   "id": "5a053791-eb67-4602-934b-4e287a92b238",
   "metadata": {},
   "outputs": [
    {
     "ename": "TypeError",
     "evalue": "generate_emails() takes 0 positional arguments but 2 were given",
     "output_type": "error",
     "traceback": [
      "\u001b[0;31m---------------------------------------------------------------------------\u001b[0m",
      "\u001b[0;31mTypeError\u001b[0m                                 Traceback (most recent call last)",
      "Input \u001b[0;32mIn [12]\u001b[0m, in \u001b[0;36m<cell line: 1>\u001b[0;34m()\u001b[0m\n\u001b[0;32m----> 1\u001b[0m \u001b[43mgenerate_emails\u001b[49m\u001b[43m(\u001b[49m\u001b[38;5;124;43m'\u001b[39;49m\u001b[38;5;124;43mDiane\u001b[39;49m\u001b[38;5;124;43m'\u001b[39;49m\u001b[43m,\u001b[49m\u001b[43m \u001b[49m\u001b[38;5;124;43m'\u001b[39;49m\u001b[38;5;124;43mWoodbridge\u001b[39;49m\u001b[38;5;124;43m'\u001b[39;49m\u001b[43m)\u001b[49m\n",
      "\u001b[0;31mTypeError\u001b[0m: generate_emails() takes 0 positional arguments but 2 were given"
     ]
    }
   ],
   "source": [
    "generate_emails('Diane', 'Woodbridge')"
   ]
  },
  {
   "cell_type": "code",
   "execution_count": null,
   "id": "83eb5f42-ea8c-4c07-8c86-6493ef7a590e",
   "metadata": {},
   "outputs": [],
   "source": []
  }
 ],
 "metadata": {
  "kernelspec": {
   "display_name": "Python 3 (ipykernel)",
   "language": "python",
   "name": "python3"
  },
  "language_info": {
   "codemirror_mode": {
    "name": "ipython",
    "version": 3
   },
   "file_extension": ".py",
   "mimetype": "text/x-python",
   "name": "python",
   "nbconvert_exporter": "python",
   "pygments_lexer": "ipython3",
   "version": "3.9.12"
  }
 },
 "nbformat": 4,
 "nbformat_minor": 5
}
