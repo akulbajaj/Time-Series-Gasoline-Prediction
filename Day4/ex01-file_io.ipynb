{
 "cells": [
  {
   "cell_type": "markdown",
   "id": "ab92651a-0f5c-4ff6-8082-de74222e4eb1",
   "metadata": {},
   "source": [
    "## File I/O and Output Formatting\n",
    "\n",
    "- From epa_air_quality.csv which includes date, site_id, pm10, and aqi values, return ‘date, site_id : pm10’ for records where pm10 is greater than 200.\n",
    "\n",
    "- Extra : Sort the output by pm10 in descending order."
   ]
  },
  {
   "cell_type": "code",
   "execution_count": 33,
   "id": "f66e5a70-51d1-413d-9cc1-36738ebca44b",
   "metadata": {},
   "outputs": [],
   "source": [
    "file = open('../Data/epa_air_quality.csv', 'r')"
   ]
  },
  {
   "cell_type": "code",
   "execution_count": 34,
   "id": "e9850b5e-db6a-4c13-84a7-31c0a1ed1b6e",
   "metadata": {},
   "outputs": [
    {
     "name": "stdout",
     "output_type": "stream",
     "text": [
      "2020-08-21, 60190500 : 211\n",
      "2020-08-21, 60190500 : 211\n",
      "2020-08-21, 60190500 : 211\n",
      "=====\n",
      "2020-08-22, 60190500 : 212\n",
      "2020-08-22, 60190500 : 212\n",
      "2020-08-22, 60190500 : 212\n",
      "=====\n",
      "2020-02-02, 60270022 : 562\n",
      "2020-02-02, 60270022 : 562\n",
      "2020-02-02, 60270022 : 562\n",
      "=====\n",
      "2020-02-02, 60270025 : 537\n",
      "2020-02-02, 60270025 : 537\n",
      "2020-02-02, 60270025 : 537\n",
      "=====\n",
      "2020-02-02, 60270028 : 212\n",
      "2020-02-02, 60270028 : 212\n",
      "2020-02-02, 60270028 : 212\n",
      "=====\n",
      "2020-02-02, 60270030 : 361\n",
      "2020-02-02, 60270030 : 361\n",
      "2020-02-02, 60270030 : 361\n",
      "=====\n",
      "2020-02-02, 60271003 : 253\n",
      "2020-02-02, 60271003 : 253\n",
      "2020-02-02, 60271003 : 253\n",
      "=====\n"
     ]
    }
   ],
   "source": [
    "for line in file:\n",
    "    date = line.split(',')[0]\n",
    "    site_id = line.split(',')[1]\n",
    "    pm10 = line.split(',')[2]\n",
    "    if(pm10.isnumeric() and int(pm10) > 200):\n",
    "        print(f'''{date}, {site_id} : {pm10}''')\n",
    "        print('{1}, {0} : {value}'.format(site_id, date, value=pm10))\n",
    "        print(date + ', ' + site_id + \" : \" + pm10)\n",
    "        print(\"=====\")"
   ]
  },
  {
   "cell_type": "code",
   "execution_count": 7,
   "id": "78973ea1-7092-415a-9023-ae5b28b7c026",
   "metadata": {},
   "outputs": [
    {
     "data": {
      "text/plain": [
       "False"
      ]
     },
     "execution_count": 7,
     "metadata": {},
     "output_type": "execute_result"
    }
   ],
   "source": [
    "file.closed"
   ]
  },
  {
   "cell_type": "code",
   "execution_count": 8,
   "id": "e668393d-f45b-4f75-bbad-87861ad9b87a",
   "metadata": {},
   "outputs": [],
   "source": [
    "file.close()"
   ]
  },
  {
   "cell_type": "code",
   "execution_count": 9,
   "id": "4f889f05-5129-44e3-ac60-56e9320a9edd",
   "metadata": {},
   "outputs": [
    {
     "data": {
      "text/plain": [
       "True"
      ]
     },
     "execution_count": 9,
     "metadata": {},
     "output_type": "execute_result"
    }
   ],
   "source": [
    "file.closed"
   ]
  },
  {
   "cell_type": "markdown",
   "id": "c47ef7fc-3526-4d03-b37b-cd35711aa149",
   "metadata": {
    "tags": []
   },
   "source": [
    "## The above is equivalent to the following statement"
   ]
  },
  {
   "cell_type": "code",
   "execution_count": 36,
   "id": "43d9a208-c06a-4819-9cd0-b683820a7406",
   "metadata": {},
   "outputs": [
    {
     "name": "stdout",
     "output_type": "stream",
     "text": [
      "2020-08-21, 60190500 : 211\n",
      "2020-08-22, 60190500 : 212\n",
      "2020-02-02, 60270022 : 562\n",
      "2020-02-02, 60270025 : 537\n",
      "2020-02-02, 60270028 : 212\n",
      "2020-02-02, 60270030 : 361\n",
      "2020-02-02, 60271003 : 253\n"
     ]
    }
   ],
   "source": [
    "with open('../Data/epa_air_quality.csv', 'r') as f:\n",
    "    for line in f:\n",
    "        date = line.split(',')[0]\n",
    "        site_id = line.split(',')[1]\n",
    "        pm10 = line.split(',')[2]\n",
    "        if(pm10.isnumeric() and int(pm10) > 200):\n",
    "            print(f'''{date}, {site_id} : {pm10}''')"
   ]
  },
  {
   "cell_type": "code",
   "execution_count": 47,
   "id": "f38a844b-7ddb-48d5-aa39-84b8438a5e17",
   "metadata": {},
   "outputs": [
    {
     "data": {
      "text/plain": [
       "True"
      ]
     },
     "execution_count": 47,
     "metadata": {},
     "output_type": "execute_result"
    }
   ],
   "source": [
    "f.closed"
   ]
  },
  {
   "cell_type": "markdown",
   "id": "ad406fd1-7fb6-4c20-928b-967839d5ea21",
   "metadata": {},
   "source": [
    "### Extra"
   ]
  },
  {
   "cell_type": "code",
   "execution_count": 41,
   "id": "13abcc44-0e93-4c06-bd73-f7456f774069",
   "metadata": {},
   "outputs": [],
   "source": [
    "def third_elem(x):\n",
    "    return x[2]"
   ]
  },
  {
   "cell_type": "code",
   "execution_count": 44,
   "id": "9b24afc7-4c7e-4a58-b094-5446ee91430c",
   "metadata": {},
   "outputs": [
    {
     "name": "stdout",
     "output_type": "stream",
     "text": [
      "2020-02-02, 60270022 : 562\n",
      "2020-02-02, 60270025 : 537\n",
      "2020-02-02, 60270030 : 361\n",
      "2020-02-02, 60271003 : 253\n",
      "2020-08-22, 60190500 : 212\n",
      "2020-02-02, 60270028 : 212\n",
      "2020-08-21, 60190500 : 211\n"
     ]
    }
   ],
   "source": [
    "with open('../Data/epa_air_quality.csv', 'r') as f:\n",
    "    output = list()\n",
    "    for line in f:\n",
    "        date = line.split(',')[0]\n",
    "        site_id = line.split(',')[1]\n",
    "        pm10 = line.split(',')[2]\n",
    "        if(pm10.isnumeric() and int(pm10) > 200):\n",
    "            output.append([date, int(site_id), int(pm10)])\n",
    "    output.sort(key=third_elem, reverse=True)\n",
    "    for elem in output:\n",
    "        print(f'{elem[0]}, {elem[1]} : {elem[2]}')"
   ]
  },
  {
   "cell_type": "code",
   "execution_count": null,
   "id": "a31a9102-30cb-470a-a9c6-5101950d732c",
   "metadata": {},
   "outputs": [],
   "source": []
  }
 ],
 "metadata": {
  "kernelspec": {
   "display_name": "Python 3 (ipykernel)",
   "language": "python",
   "name": "python3"
  },
  "language_info": {
   "codemirror_mode": {
    "name": "ipython",
    "version": 3
   },
   "file_extension": ".py",
   "mimetype": "text/x-python",
   "name": "python",
   "nbconvert_exporter": "python",
   "pygments_lexer": "ipython3",
   "version": "3.9.12"
  }
 },
 "nbformat": 4,
 "nbformat_minor": 5
}
