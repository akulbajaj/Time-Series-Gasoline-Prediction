{
 "cells": [
  {
   "cell_type": "markdown",
   "id": "1cb2c7de-e811-4ab4-8626-035845e2cd95",
   "metadata": {
    "tags": []
   },
   "source": [
    "## For the following functions, what are the proper ways to call the function?"
   ]
  },
  {
   "cell_type": "code",
   "execution_count": 1,
   "id": "0a717383-63b0-4ed3-814a-f9f80952dab1",
   "metadata": {
    "tags": []
   },
   "outputs": [],
   "source": [
    "def generate_emails(first_name, last_name):\n",
    "    user_id = first_name.lower()[0] + last_name.lower()\n",
    "    return user_id + '@usfca.edu'"
   ]
  },
  {
   "cell_type": "code",
   "execution_count": null,
   "id": "7fa4f020-d5d2-400a-b4ef-9dc32d5ea4d8",
   "metadata": {},
   "outputs": [],
   "source": []
  },
  {
   "cell_type": "code",
   "execution_count": 5,
   "id": "9a1f39a0-acc8-4cba-998d-7288d6e221ac",
   "metadata": {},
   "outputs": [],
   "source": [
    "def generate_emails(*args):\n",
    "    user_id = args[0].lower()[0] + args[1].lower()\n",
    "    return user_id + \"@usfca.edu\""
   ]
  },
  {
   "cell_type": "code",
   "execution_count": null,
   "id": "21f5ed0b-10e3-4081-918a-e686d70e7f60",
   "metadata": {},
   "outputs": [],
   "source": []
  },
  {
   "cell_type": "code",
   "execution_count": 9,
   "id": "b43d120b-029f-4e82-a2ec-83ee19c4655c",
   "metadata": {},
   "outputs": [],
   "source": [
    "def generate_emails(**kargs):\n",
    "    user_id = kargs['first_name'][0].lower() + kargs['last_name'].lower()\n",
    "    return user_id + \"@usfca.edu\""
   ]
  },
  {
   "cell_type": "code",
   "execution_count": null,
   "id": "83eb5f42-ea8c-4c07-8c86-6493ef7a590e",
   "metadata": {},
   "outputs": [],
   "source": []
  }
 ],
 "metadata": {
  "kernelspec": {
   "display_name": "Python 3 (ipykernel)",
   "language": "python",
   "name": "python3"
  },
  "language_info": {
   "codemirror_mode": {
    "name": "ipython",
    "version": 3
   },
   "file_extension": ".py",
   "mimetype": "text/x-python",
   "name": "python",
   "nbconvert_exporter": "python",
   "pygments_lexer": "ipython3",
   "version": "3.9.12"
  }
 },
 "nbformat": 4,
 "nbformat_minor": 5
}
