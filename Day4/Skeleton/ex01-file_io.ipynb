{
 "cells": [
  {
   "cell_type": "markdown",
   "id": "ab92651a-0f5c-4ff6-8082-de74222e4eb1",
   "metadata": {},
   "source": [
    "## File I/O and Output Formatting\n",
    "\n",
    "- From epa_air_quality.csv which includes date, site_id, pm10, and aqi values, return ‘date, site_id : pm10’ for records where pm10 is greater than 200.\n",
    "\n",
    "- Extra : Sort the output by pm10 in descending order."
   ]
  },
  {
   "cell_type": "code",
   "execution_count": 33,
   "id": "f66e5a70-51d1-413d-9cc1-36738ebca44b",
   "metadata": {},
   "outputs": [],
   "source": [
    "file = open('../Data/epa_air_quality.csv', 'r')"
   ]
  },
  {
   "cell_type": "code",
   "execution_count": null,
   "id": "5d3cbba0-b03d-4792-b0d8-97b760f8b75d",
   "metadata": {},
   "outputs": [],
   "source": []
  },
  {
   "cell_type": "markdown",
   "id": "ad406fd1-7fb6-4c20-928b-967839d5ea21",
   "metadata": {},
   "source": [
    "### Extra"
   ]
  },
  {
   "cell_type": "code",
   "execution_count": null,
   "id": "a31a9102-30cb-470a-a9c6-5101950d732c",
   "metadata": {},
   "outputs": [],
   "source": []
  }
 ],
 "metadata": {
  "kernelspec": {
   "display_name": "Python 3 (ipykernel)",
   "language": "python",
   "name": "python3"
  },
  "language_info": {
   "codemirror_mode": {
    "name": "ipython",
    "version": 3
   },
   "file_extension": ".py",
   "mimetype": "text/x-python",
   "name": "python",
   "nbconvert_exporter": "python",
   "pygments_lexer": "ipython3",
   "version": "3.9.12"
  }
 },
 "nbformat": 4,
 "nbformat_minor": 5
}
