{
 "cells": [
  {
   "cell_type": "markdown",
   "id": "2091a950-ccb8-4d3d-8328-ab7876520650",
   "metadata": {
    "tags": []
   },
   "source": [
    "## \n",
    "create a function count_min_max(list), which takes a list and returns its length, minimum and maximum values"
   ]
  },
  {
   "cell_type": "code",
   "execution_count": null,
   "id": "0e388d82-404f-4bc2-a3be-31caa9ccf250",
   "metadata": {},
   "outputs": [],
   "source": []
  }
 ],
 "metadata": {
  "kernelspec": {
   "display_name": "Python 3 (ipykernel)",
   "language": "python",
   "name": "python3"
  },
  "language_info": {
   "codemirror_mode": {
    "name": "ipython",
    "version": 3
   },
   "file_extension": ".py",
   "mimetype": "text/x-python",
   "name": "python",
   "nbconvert_exporter": "python",
   "pygments_lexer": "ipython3",
   "version": "3.9.12"
  }
 },
 "nbformat": 4,
 "nbformat_minor": 5
}
