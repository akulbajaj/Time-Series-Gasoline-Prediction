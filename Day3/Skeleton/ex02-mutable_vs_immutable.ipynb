{
 "cells": [
  {
   "cell_type": "markdown",
   "id": "5872279e-f732-4329-9e84-8ed5595d6ef4",
   "metadata": {},
   "source": [
    "# List vs Tuple\n",
    "- Create a list with 1,2,3 and increase each element by 1.\n",
    "- Create a tuple with 1,2,3 and increase each element by 1.\n",
    "\n",
    "<b> Goal </b> : Let's see whether you can update lists and/or tuples."
   ]
  }
 ],
 "metadata": {
  "kernelspec": {
   "display_name": "Python 3 (ipykernel)",
   "language": "python",
   "name": "python3"
  },
  "language_info": {
   "codemirror_mode": {
    "name": "ipython",
    "version": 3
   },
   "file_extension": ".py",
   "mimetype": "text/x-python",
   "name": "python",
   "nbconvert_exporter": "python",
   "pygments_lexer": "ipython3",
   "version": "3.9.12"
  }
 },
 "nbformat": 4,
 "nbformat_minor": 5
}
