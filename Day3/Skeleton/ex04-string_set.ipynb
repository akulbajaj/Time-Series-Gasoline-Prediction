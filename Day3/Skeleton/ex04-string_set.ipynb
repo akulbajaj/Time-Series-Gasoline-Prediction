{
 "cells": [
  {
   "cell_type": "markdown",
   "id": "eb185087-4534-4f66-967f-de910ab0c162",
   "metadata": {
    "tags": []
   },
   "source": [
    "# For item_list = ['1', 'Python', 'Statistics ', ' A/B testing\\t', '124', 'python\\n'] and name = 'spark', \n",
    "- print all unique non-numeric item in item_list.  If there is any white space including a single whitespace, tab, and new line, print without those.\n",
    "- check whether name (case-insensitive) is in 1).\n"
   ]
  },
  {
   "cell_type": "code",
   "execution_count": 1,
   "id": "8b0f3a7e-ffab-46ba-9af4-fbc4314202c2",
   "metadata": {},
   "outputs": [],
   "source": [
    "item_list = ['1', 'Python', 'Statistics ', ' A/B testing\\t', '124', 'python\\n']\n",
    "name = 'PYTHON'"
   ]
  },
  {
   "cell_type": "code",
   "execution_count": null,
   "id": "9802e447-b850-4c0f-8657-0964b7f71539",
   "metadata": {},
   "outputs": [],
   "source": []
  }
 ],
 "metadata": {
  "kernelspec": {
   "display_name": "Python 3 (ipykernel)",
   "language": "python",
   "name": "python3"
  },
  "language_info": {
   "codemirror_mode": {
    "name": "ipython",
    "version": 3
   },
   "file_extension": ".py",
   "mimetype": "text/x-python",
   "name": "python",
   "nbconvert_exporter": "python",
   "pygments_lexer": "ipython3",
   "version": "3.9.12"
  }
 },
 "nbformat": 4,
 "nbformat_minor": 5
}
