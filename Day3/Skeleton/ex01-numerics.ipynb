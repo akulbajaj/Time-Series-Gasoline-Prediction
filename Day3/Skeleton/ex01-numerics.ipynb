{
 "cells": [
  {
   "cell_type": "markdown",
   "id": "55a6ca18-07ec-43b2-b9de-08e8fb682dc2",
   "metadata": {},
   "source": [
    "## When x = 3 and y = -5, try \n",
    "- abs(y)\n",
    "- x/y\n",
    "- x//y\n",
    "- x%y\n",
    "- x//float(y)\n",
    "- x%float(y)\n",
    "- round(float(y))\n",
    "- math.floor(x/y)\n",
    "- math.ceil(x/y)\n",
    "- math.trunc(x/y)"
   ]
  },
  {
   "cell_type": "code",
   "execution_count": 9,
   "id": "f1d33535-f869-438d-9bfa-16598f7b774c",
   "metadata": {},
   "outputs": [],
   "source": [
    "import math"
   ]
  },
  {
   "cell_type": "code",
   "execution_count": 1,
   "id": "9726bd09-c657-4762-b92d-22a2b10b2352",
   "metadata": {},
   "outputs": [],
   "source": [
    "x = 3\n",
    "y = -5"
   ]
  },
  {
   "cell_type": "code",
   "execution_count": null,
   "id": "22a3c155-0736-4427-8c9d-44581c0ac89d",
   "metadata": {},
   "outputs": [],
   "source": []
  }
 ],
 "metadata": {
  "kernelspec": {
   "display_name": "Python 3 (ipykernel)",
   "language": "python",
   "name": "python3"
  },
  "language_info": {
   "codemirror_mode": {
    "name": "ipython",
    "version": 3
   },
   "file_extension": ".py",
   "mimetype": "text/x-python",
   "name": "python",
   "nbconvert_exporter": "python",
   "pygments_lexer": "ipython3",
   "version": "3.9.12"
  }
 },
 "nbformat": 4,
 "nbformat_minor": 5
}
