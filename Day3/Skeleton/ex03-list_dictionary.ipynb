{
 "cells": [
  {
   "cell_type": "code",
   "execution_count": 1,
   "id": "a4b63ca3-6c01-425a-9222-49ef1eb784c6",
   "metadata": {},
   "outputs": [],
   "source": [
    "seq = [0, 1, 2, 3, 4, 5]"
   ]
  },
  {
   "cell_type": "code",
   "execution_count": 2,
   "id": "b6a3ee03-6a56-49ed-98c6-cdc488a939f0",
   "metadata": {},
   "outputs": [],
   "source": [
    "even_sequence = [i for i in seq if i%2 ==0]"
   ]
  },
  {
   "cell_type": "code",
   "execution_count": 3,
   "id": "228b3406-a60e-4405-946b-d2058f957c49",
   "metadata": {},
   "outputs": [
    {
     "data": {
      "text/plain": [
       "[0, 2, 4]"
      ]
     },
     "execution_count": 3,
     "metadata": {},
     "output_type": "execute_result"
    }
   ],
   "source": [
    "even_sequence"
   ]
  },
  {
   "cell_type": "code",
   "execution_count": 4,
   "id": "3dfa6c16-88d0-44fd-a11d-a8d2789ecc07",
   "metadata": {},
   "outputs": [],
   "source": [
    "odd_sequence = [i for i in seq if i%2 !=0]"
   ]
  },
  {
   "cell_type": "code",
   "execution_count": 5,
   "id": "ac875bd1-6d81-4c38-9530-657ab711c5bc",
   "metadata": {},
   "outputs": [
    {
     "data": {
      "text/plain": [
       "[1, 3, 5]"
      ]
     },
     "execution_count": 5,
     "metadata": {},
     "output_type": "execute_result"
    }
   ],
   "source": [
    "odd_sequence"
   ]
  },
  {
   "cell_type": "markdown",
   "id": "af88edf5-07bf-41db-84ed-3a5eed17cc7d",
   "metadata": {
    "tags": []
   },
   "source": [
    "### Using a dictionary called <i> catalog </i> which includes all the university classes, create a list called msds_classes which key in the dictioary starts with 'MSDS'."
   ]
  },
  {
   "cell_type": "code",
   "execution_count": 1,
   "id": "2ea662d2-2dfb-48f6-9910-c62c7646db01",
   "metadata": {},
   "outputs": [],
   "source": [
    "catalog = {\"MSDS501\":\"Computation\", \"CS401\":\"Something\", \"MSDS594\":\"Distributed Computing\"}"
   ]
  },
  {
   "cell_type": "code",
   "execution_count": null,
   "id": "90ce9c35-8331-49f0-818c-5931fce37ada",
   "metadata": {},
   "outputs": [],
   "source": []
  },
  {
   "cell_type": "code",
   "execution_count": null,
   "id": "8ae261ec-298e-4171-ab0d-114613f46957",
   "metadata": {},
   "outputs": [],
   "source": []
  }
 ],
 "metadata": {
  "kernelspec": {
   "display_name": "Python 3 (ipykernel)",
   "language": "python",
   "name": "python3"
  },
  "language_info": {
   "codemirror_mode": {
    "name": "ipython",
    "version": 3
   },
   "file_extension": ".py",
   "mimetype": "text/x-python",
   "name": "python",
   "nbconvert_exporter": "python",
   "pygments_lexer": "ipython3",
   "version": "3.9.12"
  }
 },
 "nbformat": 4,
 "nbformat_minor": 5
}
