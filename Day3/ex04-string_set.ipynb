{
 "cells": [
  {
   "cell_type": "markdown",
   "id": "eb185087-4534-4f66-967f-de910ab0c162",
   "metadata": {
    "tags": []
   },
   "source": [
    "# For item_list = ['1', 'Python', 'Statistics ', ' A/B testing\\t', '124', 'python\\n'] and name = 'spark', \n",
    "- print all unique non-numeric item in item_list.  If there is any white space including a single whitespace, tab, and new line, print without those.\n",
    "- check whether name (case-insensitive) is in 1).\n"
   ]
  },
  {
   "cell_type": "code",
   "execution_count": 1,
   "id": "8b0f3a7e-ffab-46ba-9af4-fbc4314202c2",
   "metadata": {},
   "outputs": [],
   "source": [
    "item_list = ['1', 'Python', 'Statistics ', ' A/B testing\\t', '124', 'python\\n']\n",
    "name = 'PYTHON'"
   ]
  },
  {
   "cell_type": "code",
   "execution_count": 2,
   "id": "cc4abbe8-8a3d-45ca-ba93-b104c566995f",
   "metadata": {},
   "outputs": [],
   "source": [
    "string_set = set()\n",
    "for i in range(len(item_list)):\n",
    "    if not item_list[i].isnumeric():\n",
    "        string_set.add(item_list[i].strip(' \\t\\n').lower())"
   ]
  },
  {
   "cell_type": "code",
   "execution_count": 3,
   "id": "12997719-b51d-4f5e-9b53-77f5641e2156",
   "metadata": {},
   "outputs": [
    {
     "name": "stdout",
     "output_type": "stream",
     "text": [
      "statistics\n",
      "a/b testing\n",
      "python\n"
     ]
    }
   ],
   "source": [
    "for string in string_set:\n",
    "    print(string)"
   ]
  },
  {
   "cell_type": "code",
   "execution_count": 4,
   "id": "0d9381d2-9cb9-4ee2-be80-30d7f1ec6929",
   "metadata": {},
   "outputs": [
    {
     "data": {
      "text/plain": [
       "True"
      ]
     },
     "execution_count": 4,
     "metadata": {},
     "output_type": "execute_result"
    }
   ],
   "source": [
    "name.lower() in string_set"
   ]
  },
  {
   "cell_type": "code",
   "execution_count": null,
   "id": "9802e447-b850-4c0f-8657-0964b7f71539",
   "metadata": {},
   "outputs": [],
   "source": []
  }
 ],
 "metadata": {
  "kernelspec": {
   "display_name": "Python 3 (ipykernel)",
   "language": "python",
   "name": "python3"
  },
  "language_info": {
   "codemirror_mode": {
    "name": "ipython",
    "version": 3
   },
   "file_extension": ".py",
   "mimetype": "text/x-python",
   "name": "python",
   "nbconvert_exporter": "python",
   "pygments_lexer": "ipython3",
   "version": "3.9.12"
  }
 },
 "nbformat": 4,
 "nbformat_minor": 5
}
