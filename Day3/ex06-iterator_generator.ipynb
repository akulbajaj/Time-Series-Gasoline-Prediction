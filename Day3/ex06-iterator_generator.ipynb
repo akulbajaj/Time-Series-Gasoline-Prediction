{
 "cells": [
  {
   "cell_type": "code",
   "execution_count": 1,
   "id": "be434a04-eb01-4126-9a1c-0c7a67493498",
   "metadata": {},
   "outputs": [],
   "source": [
    "import time"
   ]
  },
  {
   "cell_type": "code",
   "execution_count": 2,
   "id": "1e3ed3ca-1765-43f0-9137-c80fa3d294ed",
   "metadata": {},
   "outputs": [],
   "source": [
    "class Power:\n",
    "    def __init__(self, p):\n",
    "        self.p = p\n",
    "        time.sleep(2)\n",
    "    def applyPower(self, x):\n",
    "        return x**self.p"
   ]
  },
  {
   "cell_type": "code",
   "execution_count": 3,
   "id": "7990b8b9-5330-4f96-ab91-34e8354a5213",
   "metadata": {},
   "outputs": [],
   "source": [
    "nums = range(10)"
   ]
  },
  {
   "cell_type": "code",
   "execution_count": 4,
   "id": "eba6997c-d190-43c7-8437-5d9005f75807",
   "metadata": {},
   "outputs": [
    {
     "data": {
      "text/plain": [
       "range(0, 10)"
      ]
     },
     "execution_count": 4,
     "metadata": {},
     "output_type": "execute_result"
    }
   ],
   "source": [
    "nums"
   ]
  },
  {
   "cell_type": "code",
   "execution_count": 5,
   "id": "1254842b-1fb6-4323-a831-74fb6ffa7df7",
   "metadata": {},
   "outputs": [],
   "source": [
    "def generator_example(nums, val):\n",
    "    c = Power(val) # taking long time 2second\n",
    "    for x in nums:\n",
    "        yield c.applyPower(x)"
   ]
  },
  {
   "cell_type": "code",
   "execution_count": 6,
   "id": "161dc50f-b6d6-4dc5-bcb2-64a07787fc11",
   "metadata": {},
   "outputs": [],
   "source": [
    "def iterator_example(num, val):\n",
    "    c = Power(val) # taking long time\n",
    "    return c.applyPower(num)"
   ]
  },
  {
   "cell_type": "code",
   "execution_count": 7,
   "id": "3f072afc-fa3c-433b-a985-43738de351c2",
   "metadata": {},
   "outputs": [
    {
     "name": "stdout",
     "output_type": "stream",
     "text": [
      "CPU times: user 3 µs, sys: 1 µs, total: 4 µs\n",
      "Wall time: 5.96 µs\n"
     ]
    }
   ],
   "source": [
    "%%time\n",
    "it = generator_example(nums, 90)"
   ]
  },
  {
   "cell_type": "code",
   "execution_count": 11,
   "id": "3aafb68d-90c0-42b8-8153-71e33e209e9b",
   "metadata": {},
   "outputs": [
    {
     "name": "stdout",
     "output_type": "stream",
     "text": [
      "CPU times: user 7 µs, sys: 0 ns, total: 7 µs\n",
      "Wall time: 11 µs\n"
     ]
    },
    {
     "data": {
      "text/plain": [
       "8727963568087712425891397479476727340041449"
      ]
     },
     "execution_count": 11,
     "metadata": {},
     "output_type": "execute_result"
    }
   ],
   "source": [
    "%%time\n",
    "next(it)"
   ]
  },
  {
   "cell_type": "code",
   "execution_count": null,
   "id": "9dc67ed1-751d-47ac-bb28-82f3088cce1f",
   "metadata": {},
   "outputs": [],
   "source": [
    "%%time\n",
    "for i in nums:\n",
    "    iterator_example(i, 5)"
   ]
  },
  {
   "cell_type": "code",
   "execution_count": null,
   "id": "849c78de-bb84-429e-90ce-dcf1ca2a4f62",
   "metadata": {},
   "outputs": [],
   "source": []
  }
 ],
 "metadata": {
  "kernelspec": {
   "display_name": "Python 3 (ipykernel)",
   "language": "python",
   "name": "python3"
  },
  "language_info": {
   "codemirror_mode": {
    "name": "ipython",
    "version": 3
   },
   "file_extension": ".py",
   "mimetype": "text/x-python",
   "name": "python",
   "nbconvert_exporter": "python",
   "pygments_lexer": "ipython3",
   "version": "3.9.12"
  }
 },
 "nbformat": 4,
 "nbformat_minor": 5
}
