{
 "cells": [
  {
   "cell_type": "markdown",
   "id": "cce3db75-1aad-4086-9264-2d09e1c182cb",
   "metadata": {
    "tags": []
   },
   "source": [
    "## palindrome\n",
    "For a given sentence (input), find all palindrome that is the same both backwards and forwards.\n",
    "\n",
    "Ex. pop, Noon"
   ]
  },
  {
   "cell_type": "code",
   "execution_count": 15,
   "id": "5d3aa224-9e87-4e54-b8d4-9bda205cf05b",
   "metadata": {},
   "outputs": [],
   "source": [
    "input = 'I did not like to listen tot pop at Noon'"
   ]
  },
  {
   "cell_type": "code",
   "execution_count": 17,
   "id": "609fca4b-54a7-47b5-82cf-bceefc41b748",
   "metadata": {},
   "outputs": [
    {
     "name": "stdout",
     "output_type": "stream",
     "text": [
      "I\n",
      "did\n",
      "tot\n",
      "pop\n",
      "Noon\n"
     ]
    }
   ],
   "source": [
    "for word in input.split():\n",
    "    for i in range(int(len(word)/2)):\n",
    "        if(word[i].lower() != word[len(word)-1-i].lower()):\n",
    "            break\n",
    "    else:\n",
    "        print(word)"
   ]
  },
  {
   "cell_type": "code",
   "execution_count": null,
   "id": "c72e185d-32ee-4263-ab0e-b266aef9a4ae",
   "metadata": {},
   "outputs": [],
   "source": []
  },
  {
   "cell_type": "code",
   "execution_count": null,
   "id": "545da86b-b402-4466-bc0c-46edf48a9801",
   "metadata": {},
   "outputs": [],
   "source": []
  }
 ],
 "metadata": {
  "kernelspec": {
   "display_name": "Python 3 (ipykernel)",
   "language": "python",
   "name": "python3"
  },
  "language_info": {
   "codemirror_mode": {
    "name": "ipython",
    "version": 3
   },
   "file_extension": ".py",
   "mimetype": "text/x-python",
   "name": "python",
   "nbconvert_exporter": "python",
   "pygments_lexer": "ipython3",
   "version": "3.9.12"
  }
 },
 "nbformat": 4,
 "nbformat_minor": 5
}
