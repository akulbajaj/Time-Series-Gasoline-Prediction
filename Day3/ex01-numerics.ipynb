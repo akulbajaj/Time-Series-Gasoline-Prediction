{
 "cells": [
  {
   "cell_type": "markdown",
   "id": "55a6ca18-07ec-43b2-b9de-08e8fb682dc2",
   "metadata": {},
   "source": [
    "## When x = 3 and y = -5, try \n",
    "- abs(y)\n",
    "- x/y\n",
    "- x//y\n",
    "- x%y\n",
    "- x//float(y)\n",
    "- x%float(y)\n",
    "- round(float(y))\n",
    "- math.floor(x/y)\n",
    "- math.ceil(x/y)\n",
    "- math.trunc(x/y)"
   ]
  },
  {
   "cell_type": "code",
   "execution_count": 9,
   "id": "f1d33535-f869-438d-9bfa-16598f7b774c",
   "metadata": {},
   "outputs": [],
   "source": [
    "import math"
   ]
  },
  {
   "cell_type": "code",
   "execution_count": 1,
   "id": "9726bd09-c657-4762-b92d-22a2b10b2352",
   "metadata": {},
   "outputs": [],
   "source": [
    "x = 3\n",
    "y = -5"
   ]
  },
  {
   "cell_type": "code",
   "execution_count": 2,
   "id": "c0478671-cb99-4e5b-830f-d81e6d2c6cd2",
   "metadata": {},
   "outputs": [
    {
     "data": {
      "text/plain": [
       "5"
      ]
     },
     "execution_count": 2,
     "metadata": {},
     "output_type": "execute_result"
    }
   ],
   "source": [
    "abs(y)"
   ]
  },
  {
   "cell_type": "code",
   "execution_count": 3,
   "id": "f2607497-ec15-4928-ab7b-0e6c009749ae",
   "metadata": {},
   "outputs": [
    {
     "data": {
      "text/plain": [
       "-0.6"
      ]
     },
     "execution_count": 3,
     "metadata": {},
     "output_type": "execute_result"
    }
   ],
   "source": [
    "x/y"
   ]
  },
  {
   "cell_type": "code",
   "execution_count": 4,
   "id": "8ca6e7c1-21a8-4a7d-a980-d75793a348f2",
   "metadata": {},
   "outputs": [
    {
     "data": {
      "text/plain": [
       "-1"
      ]
     },
     "execution_count": 4,
     "metadata": {},
     "output_type": "execute_result"
    }
   ],
   "source": [
    "x//y"
   ]
  },
  {
   "cell_type": "code",
   "execution_count": 5,
   "id": "af05ee4e-ac52-4c91-a42d-7866841510cc",
   "metadata": {},
   "outputs": [
    {
     "data": {
      "text/plain": [
       "-2"
      ]
     },
     "execution_count": 5,
     "metadata": {},
     "output_type": "execute_result"
    }
   ],
   "source": [
    "x%y"
   ]
  },
  {
   "cell_type": "code",
   "execution_count": 7,
   "id": "b2ffb082-5c7d-42bd-978c-00294c850b41",
   "metadata": {},
   "outputs": [
    {
     "data": {
      "text/plain": [
       "-5"
      ]
     },
     "execution_count": 7,
     "metadata": {},
     "output_type": "execute_result"
    }
   ],
   "source": [
    "round(float(y))"
   ]
  },
  {
   "cell_type": "code",
   "execution_count": 10,
   "id": "077fb872-911e-42aa-8eb4-5a3ca3214cdd",
   "metadata": {},
   "outputs": [
    {
     "data": {
      "text/plain": [
       "-1"
      ]
     },
     "execution_count": 10,
     "metadata": {},
     "output_type": "execute_result"
    }
   ],
   "source": [
    "math.floor(x/y)"
   ]
  },
  {
   "cell_type": "code",
   "execution_count": 11,
   "id": "30901e86-f321-4036-99eb-25bacfef35a6",
   "metadata": {},
   "outputs": [
    {
     "data": {
      "text/plain": [
       "0"
      ]
     },
     "execution_count": 11,
     "metadata": {},
     "output_type": "execute_result"
    }
   ],
   "source": [
    "math.ceil(x/y)"
   ]
  },
  {
   "cell_type": "code",
   "execution_count": 12,
   "id": "673a758e-f6d5-46ae-a3bb-c7312e0ce09e",
   "metadata": {},
   "outputs": [
    {
     "data": {
      "text/plain": [
       "0"
      ]
     },
     "execution_count": 12,
     "metadata": {},
     "output_type": "execute_result"
    }
   ],
   "source": [
    "math.trunc(x/y)"
   ]
  },
  {
   "cell_type": "code",
   "execution_count": null,
   "id": "22a3c155-0736-4427-8c9d-44581c0ac89d",
   "metadata": {},
   "outputs": [],
   "source": []
  }
 ],
 "metadata": {
  "kernelspec": {
   "display_name": "Python 3 (ipykernel)",
   "language": "python",
   "name": "python3"
  },
  "language_info": {
   "codemirror_mode": {
    "name": "ipython",
    "version": 3
   },
   "file_extension": ".py",
   "mimetype": "text/x-python",
   "name": "python",
   "nbconvert_exporter": "python",
   "pygments_lexer": "ipython3",
   "version": "3.9.12"
  }
 },
 "nbformat": 4,
 "nbformat_minor": 5
}
